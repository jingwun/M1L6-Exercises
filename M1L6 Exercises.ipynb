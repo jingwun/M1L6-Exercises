{
 "cells": [
  {
   "cell_type": "markdown",
   "id": "elect-darkness",
   "metadata": {},
   "source": [
    "$E[X] = \\sum X_if(X_i)$"
   ]
  },
  {
   "cell_type": "markdown",
   "id": "mental-maximum",
   "metadata": {},
   "source": [
    "$E[X^2] = \\sum X_i^2f(X_i)$"
   ]
  },
  {
   "cell_type": "markdown",
   "id": "ultimate-deployment",
   "metadata": {},
   "source": [
    "$E[e^{\\sigma W_t}] = \\sum e^{\\sigma W_t}f(W_i)$"
   ]
  },
  {
   "cell_type": "markdown",
   "id": "occupational-botswana",
   "metadata": {},
   "source": [
    "$W_i$ ~$N(0, t)$"
   ]
  },
  {
   "cell_type": "markdown",
   "id": "accepting-routine",
   "metadata": {},
   "source": [
    "$ f(W_i) = \\frac{1}{\\sigma\\sqrt{2\\pi}}e^{-\\frac{1}{2}(\\frac{x-\\mu}{\\sigma})^2}$"
   ]
  },
  {
   "cell_type": "markdown",
   "id": "august-devices",
   "metadata": {},
   "source": [
    "$= \\frac{1}{\\sqrt{t}\\sqrt{2\\pi}}e^{-\\frac{1}{2}(\\frac{x}{\\sqrt{t}})^2}$"
   ]
  },
  {
   "cell_type": "markdown",
   "id": "seasonal-pantyhose",
   "metadata": {},
   "source": [
    "$\\int e^{\\sigma W_t}\\frac{1}{\\sqrt{t}\\sqrt{2\\pi}}e^{-\\frac{1}{2}(\\frac{x}{\\sqrt{t}})^2}dW$"
   ]
  },
  {
   "cell_type": "markdown",
   "id": "representative-edward",
   "metadata": {},
   "source": [
    "$=\\frac{1}{\\sqrt{2\\pi t}}\\int e^{\\sigma W}e^{-\\frac{1}{2t}({W})^2}dW$"
   ]
  },
  {
   "cell_type": "code",
   "execution_count": null,
   "id": "eastern-product",
   "metadata": {},
   "outputs": [],
   "source": []
  }
 ],
 "metadata": {
  "hide_input": false,
  "kernelspec": {
   "display_name": "Python 3",
   "language": "python",
   "name": "python3"
  },
  "language_info": {
   "codemirror_mode": {
    "name": "ipython",
    "version": 3
   },
   "file_extension": ".py",
   "mimetype": "text/x-python",
   "name": "python",
   "nbconvert_exporter": "python",
   "pygments_lexer": "ipython3",
   "version": "3.8.5"
  },
  "toc": {
   "base_numbering": 1,
   "nav_menu": {},
   "number_sections": true,
   "sideBar": true,
   "skip_h1_title": false,
   "title_cell": "Table of Contents",
   "title_sidebar": "Contents",
   "toc_cell": false,
   "toc_position": {},
   "toc_section_display": true,
   "toc_window_display": false
  }
 },
 "nbformat": 4,
 "nbformat_minor": 5
}
